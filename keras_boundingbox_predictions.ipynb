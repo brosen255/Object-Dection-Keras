{
  "nbformat": 4,
  "nbformat_minor": 0,
  "metadata": {
    "colab": {
      "name": "keras_boundingbox_predictions",
      "version": "0.3.2",
      "provenance": []
    },
    "kernelspec": {
      "name": "python3",
      "display_name": "Python 3"
    },
    "accelerator": "GPU"
  },
  "cells": [
    {
      "metadata": {
        "id": "rjSOskdyGBI3",
        "colab_type": "code",
        "outputId": "6ee05b9d-696b-4c63-f053-4209def855c0",
        "colab": {
          "base_uri": "https://localhost:8080/",
          "height": 34
        }
      },
      "cell_type": "code",
      "source": [
        "import pandas as pd\n",
        "import matplotlib.pyplot as plt\n",
        "import matplotlib.image as mpimg\n",
        "from keras.preprocessing.image import ImageDataGenerator, array_to_img, img_to_array, load_img\n",
        "import numpy as np\n",
        "from tqdm import tqdm_notebook as tqdm\n",
        "from skimage.transform import rescale, resize, downscale_local_mean\n",
        "import cv2"
      ],
      "execution_count": 1,
      "outputs": [
        {
          "output_type": "stream",
          "text": [
            "Using TensorFlow backend.\n"
          ],
          "name": "stderr"
        }
      ]
    },
    {
      "metadata": {
        "id": "pt5P_WP4GGwS",
        "colab_type": "code",
        "colab": {}
      },
      "cell_type": "code",
      "source": [
        "from google.colab import drive\n",
        "drive.mount('/content/drive')\n",
        "path1 = '/content/drive/My Drive/cimalab/thyroid/'"
      ],
      "execution_count": 0,
      "outputs": []
    },
    {
      "metadata": {
        "id": "91-O4208GG0V",
        "colab_type": "code",
        "colab": {}
      },
      "cell_type": "code",
      "source": [
        "import matplotlib.pyplot as plt\n",
        "import matplotlib.image as mpimg\n",
        "from keras.preprocessing.image import array_to_img, img_to_array, load_img\n",
        "from tqdm import tqdm_notebook as tqdm\n",
        "from skimage.transform import rescale, resize, downscale_local_mean\n",
        "import numpy as np\n",
        "\n",
        "#path to google drive folder\n",
        "simp_path = '/content/drive/My Drive'\n",
        "train_path = '/content/drive/My Drive/cimalab/train.csv'\n",
        "validation_path = '/content/drive/My Drive/cimalab/validation.csv'\n",
        "test_path = '/content/drive/My Drive/cimalab/test.csv'\n",
        "\n",
        "#read csv\n",
        "import pandas as pd\n",
        "train = pd.read_csv(train_path)\n",
        "validation = pd.read_csv(validation_path)\n",
        "test = pd.read_csv(test_path)\n",
        "\n",
        "#Reformatting dataframe\n",
        "def reformat(dataframe):\n",
        "  dataframe['filename'] = dataframe.filename.str[1:]\n",
        "  dataframe['filename'] = simp_path + dataframe.filename\n",
        "  file_paths = dataframe.filename.tolist()\n",
        "  \n",
        "  # creating a width and heigh dataframe\n",
        "  # the intial dataframe the we created had coordinates for top-left and bottom-right\n",
        "  dataframe['w'] = dataframe.x2 - dataframe.x1\n",
        "  dataframe['h'] = dataframe.y2 - dataframe.y1\n",
        "  return dataframe\n",
        "\n",
        "train = reformat(train)\n",
        "validation = reformat(validation)\n",
        "test = reformat(test)\n",
        "  \n",
        "## function to resize input and output\n",
        "## dataframe must be a pandas dataframe\n",
        "def get_data(dataframe):\n",
        "  img_path = dataframe.filename.tolist()\n",
        "  coor = dataframe.drop(['filename','image_id','Unnamed: 0'], axis=1).values\n",
        "  \n",
        "  im_width = 128\n",
        "  im_height = 128\n",
        "\n",
        "  X = np.zeros((len(img_path), im_height, im_width, 3), dtype=np.float64)\n",
        "  y = np.zeros((len(img_path), im_height, im_width, 3), dtype=np.float64)\n",
        "  print('Getting and resizing images ... ')\n",
        "  \n",
        "## This loop transforms the coordinates by the same factor that the image\n",
        "## is resized, so the coordinates are still accurate\n",
        "  for n,f in tqdm(enumerate(img_path), total=len(img_path[:])):\n",
        "\n",
        "    img = load_img(f)\n",
        "    x_img = img_to_array(img)\n",
        "    x_img = np.array(x_img,dtype=np.float64)\n",
        "\n",
        "    ## (height,width) for numpy array\n",
        "    ## x2 = column[2], y2 = [3]\n",
        "\n",
        "    h = x_img.shape[0]\n",
        "    w = x_img.shape[1]\n",
        "    target_h = 128\n",
        "    target_w = 128\n",
        "    \n",
        "    h_factor = h/target_h\n",
        "    w_factor = w/target_w\n",
        "\n",
        "    ## coor[n][0] == x1\n",
        "    ## coor[n][1] == y1\n",
        "    ## coor[n][2] == x2\n",
        "    ## coor[n][3] == y2\n",
        "    ## coor[n][4] == width\n",
        "    ## coor[n][5] == height\n",
        "    \n",
        "    old_h = coor[n][5]\n",
        "    old_w = coor[n][4]\n",
        "\n",
        "    bounding_h = old_h * h_factor\n",
        "    bounding_w = old_w * w_factor\n",
        "\n",
        "    coor[n][5] = bounding_h\n",
        "    coor[n][4] = bounding_w\n",
        "\n",
        "    coor[n][2] = coor[n][0] + coor[n][4]\n",
        "    coor[n][3] = coor[n][1] + coor[n][5]\n",
        "\n",
        "\n",
        "    x_img = resize(x_img, (im_height, im_width, 1), preserve_range=True)\n",
        "    X[n, ...,0] = x_img.squeeze()/255.\n",
        "\n",
        "  return X, coor\n",
        "\n",
        "train_X, train_coor = get_data(train)\n",
        "valid_X, valid_coor = get_data(validation)\n",
        "test_X, test_coor = get_data(test)\n",
        "\n",
        "# Uncomment for model to ouput w,h instead of x2,y2\n",
        "# train_coor = train_coor[:,[0,1,4,5]]\n",
        "# valid_coor = valid_coor[:,[0,1,4,5]]\n",
        "# test_coor  = test_coor[:,[0,1,4,5]]\n",
        "\n",
        "# First four columns\n",
        "train_coor = train_coor[:,[0,1,2,3]]\n",
        "valid_coor = valid_coor[:,[0,1,2,3]]\n",
        "test_coor  = test_coor[:,[0,1,2,3]]"
      ],
      "execution_count": 0,
      "outputs": []
    },
    {
      "metadata": {
        "id": "1Y9Jdw73GG4M",
        "colab_type": "code",
        "colab": {}
      },
      "cell_type": "code",
      "source": [
        "from keras.callbacks import ModelCheckpoint, TensorBoard\n",
        "from keras.layers  import Dropout, Flatten, Dense\n",
        "from keras.applications import xception\n",
        "from keras.models  import Sequential\n",
        "from keras import optimizers\n",
        "\n",
        "\n",
        "conv_base = xception.Xception(\n",
        "                     weights      = 'imagenet',\n",
        "                     include_top  = False,\n",
        "                     input_shape  = (128, 128, 3))\n",
        "\n",
        "conv_base.trainable = True\n",
        "\n",
        "\n",
        "xception_model = Sequential()\n",
        "xception_model.add(conv_base)\n",
        "xception_model.add(Flatten())\n",
        "xception_model.add(Dropout(0.5))                      # Does a pre-trained model need a dropout?\n",
        "xception_model.add(Dense(256, activation = 'linear')) # Set to linear for regression approach\n",
        "xception_model.add(Dense(4, activation   = 'linear')) ## sigmoid\n",
        "\n",
        "best_model = ModelCheckpoint(\"./xception/trial_2_xception.h5\", monitor='val_loss', verbose=0, save_best_only=True)\n",
        "xception_model.summary()\n",
        "xception_model.compile(loss      = 'mean_squared_error',\n",
        "                       optimizer = optimizers.Adam(),\n",
        "                       metrics   = ['mse'])\n",
        "progress = xception_model.fit(x=train_X, y=train_coor, epochs=20, verbose=1, batch_size = 32, validation_data = (valid_X, valid_coor))"
      ],
      "execution_count": 0,
      "outputs": []
    },
    {
      "metadata": {
        "id": "lxMjVyINYuhn",
        "colab_type": "code",
        "colab": {}
      },
      "cell_type": "code",
      "source": [
        "acc      = progress.history['mean_squared_error']\n",
        "val_acc  = progress.history['val_mean_squared_error']\n",
        "loss     = progress.history['loss']\n",
        "val_loss = progress.history['val_loss']\n",
        "\n",
        "epochs   = range(len(acc))\n",
        "\n",
        "plt.plot  (epochs, acc, 'bo',    label = 'Training')\n",
        "plt.plot  (epochs, val_acc, 'b', label = 'Validation')\n",
        "plt.title ('Training and validation MSE')\n",
        "plt.legend()\n",
        "\n",
        "plt.figure()\n",
        "\n",
        "plt.plot  (epochs, loss, 'bo', label='Training')\n",
        "plt.plot  (epochs, val_loss, 'b', label='Validation loss')\n",
        "plt.title ('Training and validation loss')\n",
        "plt.legend()\n",
        "\n",
        "plt.show  ()"
      ],
      "execution_count": 0,
      "outputs": []
    },
    {
      "metadata": {
        "id": "2C4Euk2DHP_C",
        "colab_type": "code",
        "colab": {}
      },
      "cell_type": "code",
      "source": [
        "## Evaluate test predictions with IoU scores\n",
        "## Retrived formula from here :  https://stackoverflow.com/questions/27152904/calculate-overlapped-area-between-two-rectangles\n",
        "predict_ = xception_model.predict(x=test_X, batch_size=32, verbose=1)\n",
        "predict_ = pd.DataFrame(predict_)\n",
        "\n",
        "## Just renaming the cxolumns\n",
        "predict_.rename(index=str, inplace = True,\n",
        "              columns={0: \"pred_x1\", 1: \"pred_y1\",\n",
        "                       2: \"pred_x2\", 3: \"pred_y2\"})\n",
        "predict_['px2'] = predict_.pred_x1 + predict_.pred_x2\n",
        "actual = pd.DataFrame(test_coor)\n",
        "actual.rename(index=str, inplace = True,\n",
        "              columns={0: \"act_x1\", 1: \"act_y1\",\n",
        "                       2: \"act_x2\", 3: \"act_y2\"})\n",
        "# Combining the actual values and the prediction values into one dataframe\n",
        "framer = pd.concat([actual.reset_index(drop=True),predict_.reset_index(drop=True)], axis=1)\n",
        "\n",
        "# Taking minimum value for x2 values\n",
        "min_x2 = framer[['pred_x2','act_x2']].min(axis=1)\n",
        "\n",
        "# Taking maximum for x1 values\n",
        "max_x1 = framer[['pred_x1','act_x1']].max(axis=1)\n",
        "\n",
        "# Taking minimum value for y2 values\n",
        "min_y2 = framer[['pred_y2','act_y2']].min(axis=1)\n",
        "\n",
        "# Taking minimum value for x2 values\n",
        "max_y1 = framer[['pred_y1','act_y1']].max(axis=1)\n",
        "\n",
        "dx = min_x2 - max_x1\n",
        "dy = min_y2 - max_y1\n",
        "\n",
        "width = framer['act_x2'] - framer['act_x1']\n",
        "height = framer['act_y2'] - framer['act_y1']\n",
        "w_pred = framer['pred_x2'] - framer['pred_x1']\n",
        "h_pred = framer['pred_y2'] - framer['pred_y1']\n",
        "overlap_area = dx*dy\n",
        "true_area = (width*height)+(w_pred*h_pred)-(overlap_area)\n",
        "\n",
        "framer['pct_overlap'] = (overlap_area/true_area)\n",
        "framer.pct_overlap.mean()"
      ],
      "execution_count": 0,
      "outputs": []
    },
    {
      "metadata": {
        "id": "gDSMkFxVHQGf",
        "colab_type": "code",
        "colab": {
          "base_uri": "https://localhost:8080/",
          "height": 430
        },
        "outputId": "9227379d-9498-4b49-e4c2-3906fe79ebe0"
      },
      "cell_type": "code",
      "source": [
        "import seaborn as sns\n",
        "\n",
        "ax = sns.distplot(framer.pct_overlap)\n",
        "ax.set(xlabel='IoU Score', ylabel='Distribution Density')"
      ],
      "execution_count": 53,
      "outputs": [
        {
          "output_type": "stream",
          "text": [
            "/usr/local/lib/python3.6/dist-packages/matplotlib/axes/_axes.py:6521: MatplotlibDeprecationWarning: \n",
            "The 'normed' kwarg was deprecated in Matplotlib 2.1 and will be removed in 3.1. Use 'density' instead.\n",
            "  alternative=\"'density'\", removal=\"3.1\")\n"
          ],
          "name": "stderr"
        },
        {
          "output_type": "execute_result",
          "data": {
            "text/plain": [
              "[Text(0, 0.5, 'Distribution Density'), Text(0.5, 0, 'IoU Score')]"
            ]
          },
          "metadata": {
            "tags": []
          },
          "execution_count": 53
        },
        {
          "output_type": "display_data",
          "data": {
            "image/png": "[encoded data removed]",
            "text/plain": [
              "<Figure size 576x396 with 1 Axes>"
            ]
          },
          "metadata": {
            "tags": []
          }
        }
      ]
    }
  ]
}